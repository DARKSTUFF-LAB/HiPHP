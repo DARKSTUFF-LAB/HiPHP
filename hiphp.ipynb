{
 "cells": [
  {
   "cell_type": "code",
   "execution_count": null,
   "id": "a18c23cd",
   "metadata": {},
   "outputs": [],
   "source": [
    "%pip install -r requirements.txt"
   ]
  },
  {
   "cell_type": "code",
   "execution_count": null,
   "id": "a18c23cd",
   "metadata": {},
   "outputs": [],
   "source": [
    "%pip install -r requirements-ipynb.txt"
   ]
  },
  {
   "cell_type": "code",
   "execution_count": null,
   "id": "a18c23cd",
   "metadata": {},
   "outputs": [],
   "source": [
    "%pip install -r hiphp-desktop/requirements-dst.txt"
   ]
  },
  {
   "cell_type": "code",
   "execution_count": null,
   "id": "2c787a5c",
   "metadata": {},
   "outputs": [],
   "source": [
    "!python main.py ipynb <YOUR_NGROK_AUTHTOKEN>\n"
   ]
  }
 ],
 "metadata": {
  "kernelspec": {
   "display_name": "Python 3",
   "language": "python",
   "name": "python3"
  },
  "language_info": {
   "codemirror_mode": {
    "name": "ipython",
    "version": 3
   },
   "file_extension": ".py",
   "mimetype": "text/x-python",
   "name": "python",
   "nbconvert_exporter": "python",
   "pygments_lexer": "ipython3",
   "version": "3.10.9"
  },
  "vscode": {
   "interpreter": {
    "hash": "e7370f93d1d0cde622a1f8e1c04877d8463912d04d973331ad4851f04de6915a"
   }
  }
 },
 "nbformat": 4,
 "nbformat_minor": 5
}

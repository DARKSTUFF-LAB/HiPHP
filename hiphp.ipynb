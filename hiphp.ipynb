{
 "cells": [
  {
   "attachments": {},
   "cell_type": "markdown",
   "id": "5d3e37b4",
   "metadata": {},
   "source": [
    "Download,clear & install supplies requirements:"
   ]
  },
  {
   "cell_type": "code",
   "execution_count": null,
   "id": "5ee93924",
   "metadata": {},
   "outputs": [],
   "source": [
    "!git clone https://github.com/yasserbdj96/hiphp.git"
   ]
  },
  {
   "cell_type": "code",
   "execution_count": null,
   "id": "a18c23cd",
   "metadata": {},
   "outputs": [],
   "source": [
    "%pip install -r hiphp/requirements-ipynb.txt && pip install -r hiphp/hiphp-desktop/requirements-dst.txt && pip install -r hiphp/requirements.txt"
   ]
  },
  {
   "cell_type": "code",
   "execution_count": null,
   "id": "6dd12936",
   "metadata": {},
   "outputs": [],
   "source": [
    "%pip install hiphp"
   ]
  },
  {
   "cell_type": "code",
   "execution_count": null,
   "id": "8a8024c2",
   "metadata": {},
   "outputs": [],
   "source": [
    "!pip install selenium && apt-get update && apt install chromium-chromedriver"
   ]
  },
  {
   "attachments": {},
   "cell_type": "markdown",
   "id": "052510ad",
   "metadata": {},
   "source": [
    "Run hiphp-desktop on NGROK:"
   ]
  },
  {
   "cell_type": "code",
   "execution_count": null,
   "id": "2c787a5c",
   "metadata": {},
   "outputs": [],
   "source": [
    "!python hiphp/hiphp-desktop/main.py ipynb <YOUR_NGROK_AUTHTOKEN>"
   ]
  }
 ],
 "metadata": {
  "kernelspec": {
   "display_name": "Python 3",
   "language": "python",
   "name": "python3"
  },
  "language_info": {
   "codemirror_mode": {
    "name": "ipython",
    "version": 3
   },
   "file_extension": ".py",
   "mimetype": "text/x-python",
   "name": "python",
   "nbconvert_exporter": "python",
   "pygments_lexer": "ipython3",
   "version": "3.10.9 (main, Dec  7 2022, 13:47:07) [GCC 12.2.0]"
  },
  "vscode": {
   "interpreter": {
    "hash": "e7370f93d1d0cde622a1f8e1c04877d8463912d04d973331ad4851f04de6915a"
   }
  }
 },
 "nbformat": 4,
 "nbformat_minor": 5
}

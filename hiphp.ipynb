{
  "cells": [
    {
      "attachments": {},
      "cell_type": "markdown",
      "id": "X5hQ6WHiamN1",
      "metadata": {
        "id": "X5hQ6WHiamN1"
      },
      "source": [
        "![152.png](data:image/png;base64,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)\n",
        "\n",
        "\n",
        "# What is Hiphp?\n",
        "\n",
        "<p>The HIPHP BackDoor is an open-source tool that allows for remote control of websites utilizing the PHP programming language via the HTTP/HTTPS protocol. By utilizing the POST/GET method on port 80, users can access a range of functionalities such as file downloading and editing. Additionally, it offers the capability to connect to Tor networks, providing an added layer of security through the use of password protection.\n",
        "\n",
        "Developed by a team of webmasters who wanted to provide greater control over their sites without relying on third-party software or services, HIPHP is a simple and user-friendly solution. By placing the [HIPHP_HOLE_CODE](#HIPHP_HOLE_CODE-Example) in any PHP file within the site’s directory structure, users are granted access rights to make changes from anywhere in the world. This makes it an ideal solution for website owners looking for greater flexibility when managing their online presence.\n",
        "\n",
        "Security is a top priority for HIPHP, with regular updates ensuring compatibility across different versions of PHP codebase used by popular content management systems (CMS). Its password protection feature adds an additional layer of defense against unauthorized access. HIPHP is a secure solution for those looking to take back full control over their website hosting environment.\n",
        "\n"
      ]
    },
    {
      "cell_type": "markdown",
      "id": "5d3e37b4",
      "metadata": {
        "id": "5d3e37b4"
      },
      "source": [
        "# Download & install requirements:"
      ]
    },
    {
      "cell_type": "code",
      "execution_count": null,
      "id": "5ee93924",
      "metadata": {
        "id": "5ee93924"
      },
      "outputs": [],
      "source": [
        "!git clone https://github.com/yasserbdj96/hiphp.git"
      ]
    },
    {
      "cell_type": "code",
      "execution_count": null,
      "id": "a18c23cd",
      "metadata": {
        "id": "a18c23cd"
      },
      "outputs": [],
      "source": [
        "!pip install -r hiphp/requirements-ipynb.txt && pip install -r hiphp/hiphp-desktop/requirements-dst.txt && pip install -r hiphp/requirements.txt"
      ]
    },
    {
      "cell_type": "code",
      "execution_count": null,
      "id": "6dd12936",
      "metadata": {
        "id": "6dd12936"
      },
      "outputs": [],
      "source": [
        "!pip install hiphp"
      ]
    },
    {
      "cell_type": "code",
      "execution_count": null,
      "id": "8a8024c2",
      "metadata": {
        "id": "8a8024c2"
      },
      "outputs": [],
      "source": [
        "!pip install selenium && apt-get update && apt install chromium-chromedriver"
      ]
    },
    {
      "cell_type": "markdown",
      "id": "052510ad",
      "metadata": {
        "id": "052510ad"
      },
      "source": [
        "# Run hiphp-desktop on NGROK:"
      ]
    },
    {
      "cell_type": "code",
      "execution_count": null,
      "id": "2c787a5c",
      "metadata": {
        "id": "2c787a5c"
      },
      "outputs": [],
      "source": [
        "!python hiphp/hiphp-desktop/main.py ipynb <YOUR_NGROK_AUTHTOKEN>"
      ]
    }
  ],
  "metadata": {
    "colab": {
      "provenance": []
    },
    "kernelspec": {
      "display_name": "Python 3",
      "language": "python",
      "name": "python3"
    },
    "language_info": {
      "codemirror_mode": {
        "name": "ipython",
        "version": 3
      },
      "file_extension": ".py",
      "mimetype": "text/x-python",
      "name": "python",
      "nbconvert_exporter": "python",
      "pygments_lexer": "ipython3",
      "version": "3.10.9 (main, Dec  7 2022, 13:47:07) [GCC 12.2.0]"
    },
    "vscode": {
      "interpreter": {
        "hash": "e7370f93d1d0cde622a1f8e1c04877d8463912d04d973331ad4851f04de6915a"
      }
    }
  },
  "nbformat": 4,
  "nbformat_minor": 5
}
